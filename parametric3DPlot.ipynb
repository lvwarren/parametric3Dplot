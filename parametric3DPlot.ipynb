{
 "cells": [
  {
   "cell_type": "markdown",
   "metadata": {},
   "source": [
    "## Plotting 3D Parametric Surfaces Using Python in Jupyter Notebooks\n",
    "\n",
    "### L. Van Warren\n",
    "#### Thu Aug 15, 2019"
   ]
  },
  {
   "cell_type": "markdown",
   "metadata": {},
   "source": [
    "## Step One: Imports"
   ]
  },
  {
   "cell_type": "code",
   "execution_count": 2,
   "metadata": {},
   "outputs": [],
   "source": [
    "import numpy             as np\n",
    "import plotly.graph_objs as go\n",
    "import ipywidgets        as wg\n",
    "import warnings          as warn\n",
    "from plotly.offline import iplot"
   ]
  },
  {
   "cell_type": "markdown",
   "metadata": {},
   "source": [
    "## Step Two: Generate the Surface in (x,y,z) from Parametric Equation in (u,v)"
   ]
  },
  {
   "cell_type": "code",
   "execution_count": 3,
   "metadata": {},
   "outputs": [],
   "source": [
    "def diniEquation(uGrid, vGrid, a, b):\n",
    "    x = a *  np.cos(uGrid) * np.sin(vGrid)\n",
    "    y = a *  np.sin(uGrid) * np.sin(vGrid)\n",
    "    with warn.catch_warnings():\n",
    "        warn.filterwarnings(\"ignore\", message=\"divide by zero encountered in log\")\n",
    "        warn.filterwarnings(\"ignore\", message=\"invalid value encountered in log\")\n",
    "        z = a * (np.cos(vGrid) + np.log(np.tan(vGrid/2))) + b*uGrid\n",
    "    return x, y, z\n",
    "\n",
    "def genSurface(a, b, kU, kV, n):\n",
    "    grid_points = n\n",
    "    u = np.linspace(0    , kU*np.pi, grid_points)\n",
    "    v = np.linspace(0    , kV*np.pi, grid_points)\n",
    "    uGrid, vGrid = np.meshgrid(u, v)\n",
    "    x, y, z = diniEquation(uGrid, vGrid, a, b)\n",
    "    return x, y, z\n"
   ]
  },
  {
   "cell_type": "markdown",
   "metadata": {},
   "source": [
    "## Step Three: Package the Surface for Plotting"
   ]
  },
  {
   "cell_type": "code",
   "execution_count": 4,
   "metadata": {},
   "outputs": [],
   "source": [
    "def packageSurface(a, b, kU, kV, n):\n",
    "    x, y, z = genSurface(a, b, kU, kV, n)\n",
    "    surface = go.Surface(x=x, y=y, z=z)\n",
    "    data = [surface]\n",
    "    return data"
   ]
  },
  {
   "cell_type": "markdown",
   "metadata": {},
   "source": [
    "## Step Four: Create the Layout, Figure and Plot"
   ]
  },
  {
   "cell_type": "code",
   "execution_count": 17,
   "metadata": {},
   "outputs": [],
   "source": [
    "gc='rgb(255, 255, 255)'\n",
    "lc='rgb(255, 255, 255)'\n",
    "bg='rgb(153, 204,153)'\n",
    "sb=True\n",
    "axis=dict(gridcolor=gc, zerolinecolor=lc, showbackground=sb, backgroundcolor=bg)\n",
    "\n",
    "def createLayout():\n",
    "    return go.Layout\\\n",
    "    (\n",
    "        title='Dini\\'s Surface',\n",
    "        scene=dict(xaxis=axis, yaxis=axis, zaxis=axis),\n",
    "        width=800, height=600,\n",
    "    )\n",
    "\n",
    "def createFigure(a,b, kU, kV, n):\n",
    "    fig = go.Figure(data=packageSurface(a, b, kU, kV, n))\n",
    "    return fig\n",
    "\n",
    "def createPlot(a, b, kU, kV, n):\n",
    "    plot = iplot(createFigure(a, b, kU, kV, n))\n",
    "    return plot"
   ]
  },
  {
   "cell_type": "markdown",
   "metadata": {},
   "source": [
    "## Interact with the 3D Parametric Plot"
   ]
  },
  {
   "cell_type": "code",
   "execution_count": 18,
   "metadata": {},
   "outputs": [
    {
     "data": {
      "application/vnd.jupyter.widget-view+json": {
       "model_id": "ece9daef9f53483d9f6d2250d6b74a59",
       "version_major": 2,
       "version_minor": 0
      },
      "text/plain": [
       "interactive(children=(IntSlider(value=1, description='a', max=3, min=-1), FloatSlider(value=0.1, description='…"
      ]
     },
     "metadata": {},
     "output_type": "display_data"
    }
   ],
   "source": [
    "wg.interact(createPlot, a=1, b=0.1, kU=4, kV=6, n=(20,160,20));"
   ]
  },
  {
   "cell_type": "code",
   "execution_count": null,
   "metadata": {},
   "outputs": [],
   "source": []
  },
  {
   "cell_type": "code",
   "execution_count": null,
   "metadata": {},
   "outputs": [],
   "source": []
  }
 ],
 "metadata": {
  "kernelspec": {
   "display_name": "Python 3",
   "language": "python",
   "name": "python3"
  },
  "language_info": {
   "codemirror_mode": {
    "name": "ipython",
    "version": 3
   },
   "file_extension": ".py",
   "mimetype": "text/x-python",
   "name": "python",
   "nbconvert_exporter": "python",
   "pygments_lexer": "ipython3",
   "version": "3.8.8"
  }
 },
 "nbformat": 4,
 "nbformat_minor": 2
}
